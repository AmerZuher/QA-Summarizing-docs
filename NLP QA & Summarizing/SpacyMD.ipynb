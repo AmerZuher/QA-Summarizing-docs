{
 "cells": [
  {
   "cell_type": "code",
   "execution_count": 1,
   "metadata": {},
   "outputs": [],
   "source": [
    "import spacy\n",
    "import numpy as np"
   ]
  },
  {
   "cell_type": "code",
   "execution_count": 2,
   "metadata": {},
   "outputs": [],
   "source": [
    "#load the model\n",
    "nlp = spacy.load('en_core_web_md')"
   ]
  },
  {
   "cell_type": "code",
   "execution_count": 3,
   "metadata": {},
   "outputs": [],
   "source": [
    "# read Data\n",
    "with open (\"DS_MarianaTrench.txt\", \"r\") as f:\n",
    "    text = f.read()\n",
    "\n",
    "#transform text into a doc\n",
    "doc = nlp(text)"
   ]
  },
  {
   "attachments": {},
   "cell_type": "markdown",
   "metadata": {},
   "source": [
    "Word Vector Similarity: Similar words are obtained from the vocabulary using \n",
    "   spaCy's word vectors. Word vectors are initialized and associated with words in the vocabulary. SpaCy calculates the similarity between word vectors using vector similarity metrics, such as cosine similarity."
   ]
  },
  {
   "cell_type": "code",
   "execution_count": 4,
   "metadata": {},
   "outputs": [
    {
     "name": "stdout",
     "output_type": "stream",
     "text": [
      "Similar Words to \" pet \" are  ['puppies', 'PUPPIES', 'CHINCHILLA', 'Breed', 'cattery']\n"
     ]
    }
   ],
   "source": [
    "# to find similar words \n",
    "your_word='pet'\n",
    "\n",
    "ms = nlp.vocab.vectors.most_similar(\n",
    "    np.asarray([nlp.vocab.vectors[nlp.vocab.strings[your_word]]]), n=5)\n",
    "words = [nlp.vocab.strings[w] for w in ms[0][0]]\n",
    "distances = ms[2]\n",
    "print('Similar Words to \"',your_word,'\" are ',words)\n",
    "#doc[0].vector #This Will show the tokens as a numarical vectors.\n",
    "\n"
   ]
  },
  {
   "attachments": {},
   "cell_type": "markdown",
   "metadata": {},
   "source": [
    "Under the hood, spaCy computes the similarity based on the word vectors associated with each token in the Doc objects. Each token has an associated word vector, which represents its meaning in a multi-dimensional space. The similarity between two vectors is typically calculated using a similarity metric, such as cosine similarity."
   ]
  },
  {
   "cell_type": "code",
   "execution_count": 5,
   "metadata": {},
   "outputs": [],
   "source": [
    "#Lets Test The Similarity of sentences \n",
    "doc1=nlp('I enjoe oranges.')\n",
    "doc2=nlp('I enjoe apples.')\n",
    "doc3=nlp('I enjoe burgers.')\n",
    "doc4=nlp('I enjoe playing football')"
   ]
  },
  {
   "cell_type": "code",
   "execution_count": 6,
   "metadata": {},
   "outputs": [
    {
     "name": "stdout",
     "output_type": "stream",
     "text": [
      "The similarity betwen \" I enjoe oranges. \" & \" I enjoe apples. \" is : 92.5 %\n"
     ]
    }
   ],
   "source": [
    "#it works as a cluster ex:Fruits(apple, orange)\n",
    "print('The similarity betwen \"',doc1,'\" & \"',doc2,'\" is :',round(doc1.similarity(doc2),3)*100,'%')"
   ]
  },
  {
   "cell_type": "code",
   "execution_count": 7,
   "metadata": {},
   "outputs": [
    {
     "name": "stdout",
     "output_type": "stream",
     "text": [
      "The similarity betwen \" I enjoe oranges. \" & \" I enjoe burgers. \" is : 83.6 %\n"
     ]
    }
   ],
   "source": [
    "print('The similarity betwen \"',doc1,'\" & \"',doc3,'\" is :',round(doc1.similarity(doc3),3)*100,'%')"
   ]
  },
  {
   "cell_type": "code",
   "execution_count": 8,
   "metadata": {},
   "outputs": [
    {
     "name": "stdout",
     "output_type": "stream",
     "text": [
      "The similarity betwen \" I enjoe oranges. \" & \" I enjoe playing football \" is : 78.8 %\n"
     ]
    }
   ],
   "source": [
    "print('The similarity betwen \"',doc1,'\" & \"',doc4,'\" is :',round(doc1.similarity(doc4),3)*100,'%')"
   ]
  },
  {
   "attachments": {},
   "cell_type": "markdown",
   "metadata": {},
   "source": [
    " It is important to note that the similarity score provided by spaCy is a measure of similarity in terms of their meaning or semantic similarity, rather than a measure of exact string or lexical similarity."
   ]
  },
  {
   "attachments": {},
   "cell_type": "markdown",
   "metadata": {},
   "source": [
    "================================================================================\n"
   ]
  },
  {
   "attachments": {},
   "cell_type": "markdown",
   "metadata": {},
   "source": [
    "QA System"
   ]
  },
  {
   "attachments": {},
   "cell_type": "markdown",
   "metadata": {},
   "source": [
    "A Question Answering (QA) system in spaCy works by taking a question and a context as input. The question and context are tokenized and assigned numerical representations called embeddings. These embeddings capture the meaning of the tokens in a continuous vector space. The tokens are then processed through encoding layers and attention mechanisms to understand their contextual dependencies and importance. The encoded question and context representations are combined to facilitate interaction. The model predicts the start and end positions of the answer within the context by applying classification layers or probability distributions over the tokens. The corresponding tokens are extracted as the predicted answer and post-processed to provide the final answer. Building a complete QA system may require additional components and techniques, but spaCy provides the necessary tools for tokenization, encoding, and context understanding."
   ]
  },
  {
   "cell_type": "code",
   "execution_count": 9,
   "metadata": {},
   "outputs": [],
   "source": [
    "question = \"What is the Mariana Trench?\"\n",
    "#question = \"why was Mariana Trench called by that name?\"\n",
    "\n",
    "# Process the question\n",
    "question_doc = nlp(question)"
   ]
  },
  {
   "cell_type": "code",
   "execution_count": 10,
   "metadata": {},
   "outputs": [],
   "source": [
    "answer = None\n",
    "thresh_hold=0.8\n",
    "\n",
    "for sentence in doc.sents:\n",
    "    if question_doc.similarity(sentence) > thresh_hold:\n",
    "        answer = sentence.text\n",
    "        break"
   ]
  },
  {
   "cell_type": "code",
   "execution_count": 11,
   "metadata": {},
   "outputs": [
    {
     "name": "stdout",
     "output_type": "stream",
     "text": [
      "Answer: The Mariana Trench is an oceanic trench located in the western Pacific Ocean, about 200 kilometres (124 mi) east of the Mariana Islands; it is the deepest oceanic trench on Earth.\n"
     ]
    }
   ],
   "source": [
    "if answer is not None:\n",
    "    print(\"Answer:\", answer)\n",
    "else:\n",
    "    print(\"No answer found.\")"
   ]
  }
 ],
 "metadata": {
  "kernelspec": {
   "display_name": "base",
   "language": "python",
   "name": "python3"
  },
  "language_info": {
   "codemirror_mode": {
    "name": "ipython",
    "version": 3
   },
   "file_extension": ".py",
   "mimetype": "text/x-python",
   "name": "python",
   "nbconvert_exporter": "python",
   "pygments_lexer": "ipython3",
   "version": "3.9.13"
  },
  "orig_nbformat": 4
 },
 "nbformat": 4,
 "nbformat_minor": 2
}
