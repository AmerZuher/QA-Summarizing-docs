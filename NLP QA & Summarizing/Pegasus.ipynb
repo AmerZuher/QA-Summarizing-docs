{
 "cells": [
  {
   "cell_type": "code",
   "execution_count": 1,
   "metadata": {},
   "outputs": [
    {
     "name": "stderr",
     "output_type": "stream",
     "text": [
      "c:\\Users\\hisha\\AppData\\Local\\Programs\\Python\\Python311\\Lib\\site-packages\\tqdm\\auto.py:21: TqdmWarning: IProgress not found. Please update jupyter and ipywidgets. See https://ipywidgets.readthedocs.io/en/stable/user_install.html\n",
      "  from .autonotebook import tqdm as notebook_tqdm\n"
     ]
    }
   ],
   "source": [
    "#install pytorch pip3 install torch torchvision torchaudio\n",
    "#importing dependncies  from transformers\n",
    "from transformers import PegasusForConditionalGeneration, PegasusTokenizer\n",
    "from transformers import pipeline\n",
    "\n",
    "from IPython.display import display, HTML #only style\n",
    "def display_in_box(text):\n",
    "    box_style = 'background-color: black; border: 1px solid #ddd; padding: 10px; border-radius: 5px; color: white; white-space: pre-line;'\n",
    "    html_content = f'<div style=\"{box_style}\">{text}</div>'\n",
    "    display(HTML(html_content))"
   ]
  },
  {
   "cell_type": "code",
   "execution_count": 2,
   "metadata": {},
   "outputs": [],
   "source": [
    "# create tokenizer (2.5GB)\n",
    "tokenizer = PegasusTokenizer.from_pretrained(\"google/pegasus-xsum\")"
   ]
  },
  {
   "cell_type": "code",
   "execution_count": 3,
   "metadata": {},
   "outputs": [],
   "source": [
    "# load model\n",
    "model = PegasusForConditionalGeneration.from_pretrained(\"google/pegasus-xsum\")"
   ]
  },
  {
   "cell_type": "code",
   "execution_count": 4,
   "metadata": {},
   "outputs": [
    {
     "name": "stdout",
     "output_type": "stream",
     "text": [
      "Text Length: 12451\n"
     ]
    },
    {
     "data": {
      "text/html": [
       "<div style=\"background-color: black; border: 1px solid #ddd; padding: 10px; border-radius: 5px; color: white; white-space: pre-line;\">Mariana Trench\n",
       "\n",
       "Tools\n",
       "Coordinates: 11°21′N 142°12′E\n",
       "Page semi-protected\n",
       "From Wikipedia, the free encyclopedia\n",
       "\"Marianas Trench\" redirects here. For the Canadian band, see Marianas Trench (band).\n",
       "\n",
       "Location of the Mariana Trench\n",
       "The Mariana Trench is an oceanic trench located in the western Pacific Ocean, about 200 kilometres (124 mi) east of the Mariana Islands; it is the deepest oceanic trench on Earth. It is crescent-shaped and measures about 2,550 km (1,580 mi) in length and 69 km (43 mi) in width. The maximum known depth is 10,984 ± 25 metres (36,037 ± 82 ft; 6.825 ± 0.016 mi) at the southern end of a small slot-shaped valley in its floor known as the Challenger Deep.[1] If Mount Everest were placed into the trench at this point, its peak would still be underwater by more than 2 kilometres (1.2 mi).[a]\n",
       "\n",
       "At the bottom of the trench, the water column above exerts a pressure of 1,086 bar (15,750 psi), more than 1,071 times the standard atmospheric pressure at sea level. At this pressure, the density of water is increased by 4.96%. The temperature at the bottom is 1 to 4 °C (34 to 39 °F).[4]\n",
       "\n",
       "In 2009, the Mariana Trench was established as a US National Monument.[5] Monothalamea have been found in the trench by Scripps Institution of Oceanography researchers at a record depth of 10.6 kilometres (6.6 mi) below the sea surface.[6] Data has also suggested that microbial life forms thrive within the trench.[7][8]\n",
       "\n",
       "Etymology\n",
       "The Mariana Trench is named after the nearby Mariana Islands, which are named Las Marianas in honor of Spanish Queen Mariana of Austria. The islands are part of the island arc that is formed on an over-riding plate, called the Mariana Plate (also named for the islands), on the western side of the trench.\n",
       "\n",
       "Geology\n",
       "\n",
       "The Pacific plate is subducted beneath the Mariana Plate, creating the Mariana trench, and (further on) the arc of the Mariana Islands, as water trapped in the plate is released and explodes upward to form island volcanoes and earthquakes.\n",
       "The Mariana Trench is part of the Izu–Bonin–Mariana subduction system that forms the boundary between two tectonic plates. In this system, the western edge of one plate, the Pacific Plate, is subducted (i.e., thrust) beneath the smaller Mariana Plate that lies to the west. Crustal material at the western edge of the Pacific Plate is some of the oldest oceanic crust on Earth (up to 170 million years old), and is, therefore, cooler and denser; hence its great height difference relative to the higher-riding (and younger) Mariana Plate. The deepest area at the plate boundary is the Mariana Trench proper.\n",
       "\n",
       "The movement of the Pacific and Mariana plates is also indirectly responsible for the formation of the Mariana Islands. These volcanic islands are caused by flux melting of the upper mantle due to the release of water that is trapped in minerals of the subducted portion of the Pacific Plate.\n",
       "\n",
       "Research history\n",
       "\n",
       "Ocean trenches in the western Pacific\n",
       "See also: Challenger Deep\n",
       "The trench was first sounded during the Challenger expedition in 1875 using a weighted rope, which recorded a depth of 4,475 fathoms (8,184 metres; 26,850 feet).[9][10] In 1877, a map was published called Tiefenkarte des Grossen Ozeans (\"Depth map of the Great Ocean\") by Petermann, which showed a Challenger Tief (\"Challenger deep\") at the location of that sounding. In 1899, USS Nero, a converted collier, recorded a depth of 5,269 fathoms (9,636 metres; 31,614 feet).[11]\n",
       "\n",
       "In 1951, Challenger II surveyed the trench using echo sounding, a much more precise and vastly easier way to measure depth than the sounding equipment and drag lines used in the original expedition. During this survey, the deepest part of the trench was recorded when the Challenger II measured a depth of 5,960 fathoms (10,900 metres; 35,760 feet) at 11°19′N 142°15′E,[12] known as the Challenger Deep.[13]\n",
       "\n",
       "In 1957, the Soviet vessel Vityaz reported a depth of 11,034 metres (36,201 ft) at a location dubbed the Mariana Hollow.[14][better source needed]\n",
       "\n",
       "In 1962, the surface ship M.V. Spencer F. Baird recorded a maximum depth of 10,915 metres (35,810 ft) using precision depth gauges.\n",
       "\n",
       "In 1984, the Japanese survey vessel Takuyō (拓洋) collected data from the Mariana Trench using a narrow, multi-beam echo sounder; it reported a maximum depth of 10,924 metres (35,840 ft), also reported as 10,920 ± 10 metres (35,827 ± 33 ft).[15] Remotely Operated Vehicle KAIKO reached the deepest area of the Mariana Trench and made the deepest diving record of 10,911 metres (35,797 ft) on 24 March 1995.[16]\n",
       "\n",
       "During surveys carried out between 1997 and 2001, a spot was found along the Mariana Trench that had a depth similar to the Challenger Deep, possibly even deeper. It was discovered while scientists from the Hawaii Institute of Geophysics and Planetology were completing a survey around Guam; they used a sonar mapping system towed behind the research ship to conduct the survey. This new spot was named the HMRG (Hawaii Mapping Research Group) Deep, after the group of scientists who discovered it.[17]\n",
       "\n",
       "On 1 June 2009, mapping aboard the RV Kilo Moana (mothership of the Nereus vehicle), indicated a spot with a depth of 10,971 metres (35,994 ft). The sonar mapping of the Challenger Deep was possible by its Simrad EM120 sonar multibeam bathymetry system for deep water. The sonar system uses phase and amplitude bottom detection, with an accuracy of better than 0.2% of water depth across the entire swath (implying that the depth figure is accurate to ± 22 metres (72 ft)).[18][19]\n",
       "\n",
       "In 2011, it was announced at the American Geophysical Union Fall Meeting that a US Navy hydrographic ship equipped with a multibeam echosounder conducted a survey which mapped the entire trench to 100 metres (330 ft) resolution.[2] The mapping revealed the existence of four rocky outcrops thought to be former seamounts.[20]\n",
       "\n",
       "The Mariana Trench is a site chosen by researchers at Washington University in St. Louis and the Woods Hole Oceanographic Institution in 2012 for a seismic survey to investigate the subsurface water cycle. Using both ocean-bottom seismometers and hydrophones, the scientists are able to map structures as deep as 97 kilometres (60 mi) beneath the surface.[21]\n",
       "\n",
       "Descents\n",
       "\n",
       "This section needs to be updated. Please help update this article to reflect recent events or newly available information. (June 2020)\n",
       "\n",
       "The bathyscaphe Trieste (designed by Auguste Piccard), the first crewed vehicle to reach the bottom of the Mariana Trench[22]\n",
       "As of 2022, 22 crewed descents and seven uncrewed descents have been achieved. The first was the crewed descent by Swiss-designed, Italian-built, United States Navy-owned bathyscaphe Trieste, which reached the bottom at 1:06 pm on 23 January 1960, with Don Walsh and Jacques Piccard on board.[13][23] Iron shot was used for ballast, with gasoline for buoyancy.[13] The onboard systems indicated a depth of 11,521 metres (37,800 ft),[24] but this was later revised to 10,916 metres (35,814 ft).[25] The depth was estimated from a conversion of pressure measured and calculations based on the water density from sea surface to seabed.[23]\n",
       "\n",
       "This was followed by the uncrewed ROVs Kaikō in 1996 and Nereus in 2009. The first three expeditions directly measured very similar depths of 10,902 to 10,916 m (35,768 to 35,814 ft).[26][27] The fourth was made by Canadian film director James Cameron on 26 March 2012. He reached the bottom of the Mariana Trench in the submersible vessel Deepsea Challenger, diving to a depth of 10,908 metres (35,787 ft).[28][29][30]\n",
       "\n",
       "In July 2015, members of the National Oceanic and Atmospheric Administration, Oregon State University, and the Coast Guard submerged a hydrophone into the deepest part of the Mariana Trench, the Challenger Deep, never having previously deployed one past a mile. The titanium-shelled hydrophone was designed to withstand the immense pressure 7 miles under.[31] Although researchers were unable to retrieve the hydrophone until November, the data capacity was full within the first 23 days. After months of analyzing the sounds, the experts were surprised to pick up natural sounds like earthquakes, typhoons, baleen whales, and machine-made sounds such as boats.[32] Due to the mission's success, the researchers announced plans to deploy a second hydrophone in 2017 for an extended period of time.\n",
       "\n",
       "Victor Vescovo achieved a new record descent to 10,928 metres (35,853 ft) on 28 April 2019 using the DSV Limiting Factor, a Triton 36000/2 model manufactured by Florida-based Triton Submarines. He dived four times between 28 April and 5 May 2019, becoming the first person to dive into Challenger Deep more than once.[33][34][35]\n",
       "\n",
       "On 8 May 2020, a joint project between the Russian shipbuilders, scientific teams of the Russian Academy of Sciences with the support of the Russian Foundation for Advanced Research Projects and the Pacific Fleet submerged the autonomous underwater vehicle Vityaz-D to the bottom of the Mariana Trench at a depth of 10,028 metres (32,900 ft). Vityaz-D is the first underwater vehicle to operate autonomously at the extreme depths of the Mariana Trench. The duration of the mission, excluding diving and surfacing, was more than 3 hours.[36][37]\n",
       "\n",
       "On 10 November 2020, the Chinese submersible Fendouzhe reached the bottom of the Mariana Trench at a depth of 10,909 metres (35,791 ft).[38][39]\n",
       "\n",
       "Life\n",
       "The expedition conducted in 1960 claimed to have observed, with great surprise because of the high pressure, large creatures living at the bottom, such as a flatfish about 30 cm (12 in) long,[24] and shrimp.[40] According to Piccard, \"The bottom appeared light and clear, a waste of firm diatomaceous ooze\".[24] Many marine biologists are now skeptical of the supposed sighting of the flatfish, and it is suggested that the creature may instead have been a sea cucumber.[41][42] During the second expedition, the uncrewed vehicle Kaikō collected mud samples from the seabed.[43] Tiny organisms were found to be living in those samples.\n",
       "\n",
       "In July 2011, a research expedition deployed untethered landers, called drop cams, equipped with digital video cameras and lights to explore this deep-sea region. Among many other living organisms, some gigantic single-celled foraminiferans with a size of more than 10 cm (4 in), belonging to the class of monothalamea, were observed.[44] Monothalamea are noteworthy for their size, their extreme abundance on the seafloor, and their role as hosts for a variety of organisms.\n",
       "\n",
       "In December 2014, a new species of snailfish was discovered at a depth of 8,145 m (26,722 ft), breaking the previous record for the deepest living fish seen on video.[45]\n",
       "\n",
       "During the 2014 expedition, several new species were filmed, including huge amphipods known as supergiants. Deep-sea gigantism is the process where species grow larger than their shallow-water relatives.[45]\n",
       "\n",
       "In May 2017, an unidentified type of snailfish was filmed at a depth of 8,178 metres (26,800 ft).[46]\n",
       "\n",
       "Pollution\n",
       "In 2016, a research expedition looked at the chemical makeup of crustacean scavengers collected from the range of 7,841–10,250 metres (25,725–33,629 ft) within the trench. Within these organisms, the researchers found extremely elevated concentrations of PCBs, a chemical toxin banned in the 1970s for its environmental harm, concentrated at all depths within the sediment of the trench.[47] Further research has found that amphipods also ingest microplastics, with 100% of amphipods having at least one piece of synthetic material in their stomachs.[48][49]\n",
       "\n",
       "In 2019, Victor Vescovo reported finding a plastic bag and candy wrappers at the bottom of the trench.[50] That year, Scientific American also reported that carbon-14 from nuclear bomb testing has been found in the bodies of aquatic animals found in the trench.[51]\n",
       "\n",
       "Possible nuclear waste disposal site\n",
       "Like other oceanic trenches, the Mariana Trench has been proposed as a site for nuclear waste disposal[52][53] in the hope that tectonic plate subduction occurring at the site might eventually push the nuclear waste deep into the Earth's mantle, the second layer of the Earth. However, ocean dumping of nuclear waste is prohibited by international law.[52][53][54] Furthermore, plate subduction zones are associated with very large megathrust earthquakes, the effects of which are unpredictable for the safety of long-term disposal of nuclear wastes within the hadopelagic ecosystem.[53]</div>"
      ],
      "text/plain": [
       "<IPython.core.display.HTML object>"
      ]
     },
     "metadata": {},
     "output_type": "display_data"
    }
   ],
   "source": [
    "\n",
    "# Open the file in read mode\n",
    "with open(\"Mariana_Trench.txt\", \"r\",encoding=\"utf-8\") as file:\n",
    "    # Read the contents of the file\n",
    "    text = file.read()\n",
    "\n",
    "# Print the text read from the file\n",
    "text_length = len(text)\n",
    "print(\"Text Length:\", text_length)\n",
    "display_in_box(text)\n",
    "    \n"
   ]
  },
  {
   "attachments": {},
   "cell_type": "markdown",
   "metadata": {},
   "source": [
    "Creat tokens"
   ]
  },
  {
   "cell_type": "code",
   "execution_count": 5,
   "metadata": {},
   "outputs": [],
   "source": [
    "#truncation=True: This parameter indicates that if the input text is longer than the maximum sequence length supported by the model, it should be truncated to fit.\n",
    "\n",
    "tokens = tokenizer(text, truncation=True, padding=\"longest\", return_tensors=\"pt\")  #or TensorFlow"
   ]
  },
  {
   "attachments": {},
   "cell_type": "markdown",
   "metadata": {},
   "source": [
    "Print tokens"
   ]
  },
  {
   "cell_type": "code",
   "execution_count": 6,
   "metadata": {},
   "outputs": [
    {
     "data": {
      "text/plain": [
       "{'input_ids': tensor([[61443, 56963,  8372,   110, 32131,   116,   151,  1073,   105,  7090,\n",
       "         13670,  1400, 31021,   105,  3602, 13670,  1005,  3872,  3964,   121,\n",
       "         33433,  1078, 11099,   108,   109,   294, 31151,   198, 82487,  1483,\n",
       "         56963,   194, 49289,   264,   107,   321,   109,  3066,  1604,   108,\n",
       "           236, 61443,   116, 56963,   143,  9570,   250,  9616,   113,   109,\n",
       "         61443, 56963,   139, 61443, 56963,   117,   142, 57662, 21866,   746,\n",
       "           115,   109,  4874,  3755,  5353,   108,   160,  2416, 13112,   143,\n",
       "         36398,  8194,   158,  3758,   113,   109, 61443,  6561,   206,   126,\n",
       "           117,   109, 15699, 57662, 21866,   124,  2774,   107,   168,   117,\n",
       "         36894,   121,  8746,   111,  2548,   160,   280,   108, 19594,  3521,\n",
       "          4653,   108, 35944,  8194,   158,   115,  2072,   111, 11413,  3521,\n",
       "         57954,  8194,   158,   115,  6118,   107,   139,  2004,   606,  3370,\n",
       "           117,   377,   108, 69462,   110,   105,  1182,  7641, 50803,   108,\n",
       "         63478,   110,   105, 11460,  4954,   206, 42299,  5247,   110,   105,\n",
       "         28319,  1717,  8194,   158,   134,   109,  4576,   370,   113,   114,\n",
       "           360,  4574,   121,  8746,  7668,   115,   203,  1030,   606,   130,\n",
       "           109, 29625,  7496,   107, 65077,  1100,   240,  4636, 25715,   195,\n",
       "          1828,   190,   109, 21866,   134,   136,   491,   108,   203,  4566,\n",
       "           192,   309,   129, 12144,   141,   154,   197,   280, 13112,   143,\n",
       "         19825,  8194,   250,  4101,   304,  1100,   654,   109,  1472,   113,\n",
       "           109, 21866,   108,   109,   336,  4762,   607, 27155,   116,   114,\n",
       "          1367,   113,  2628, 10660,  1717,  1290, 18751, 46039, 30315,   312,\n",
       "           154,   197,  2628, 56633,   488,   109,   971, 14387,  1367,   134,\n",
       "          1917,   476,   107,   654,   136,  1367,   108,   109,  6923,   113,\n",
       "           336,   117,  1562,   141,   384,   107, 84257,   107,   139,  1972,\n",
       "           134,   109,  1472,   117,   305,   112,   384,   110,   105,   529,\n",
       "         59635,   112,  6341,   110,   105,  1223,   250,  4101, 60708,   222,\n",
       "          7810,   109, 61443, 56963,   140,  1614,   130,   114,   787,   765,\n",
       "         20551,   107,  4101,  1343,  1100, 15301,   144, 27735, 55953,   133,\n",
       "           174,   374,   115,   109, 21866,   141, 57561, 20083,   113, 86509,\n",
       "          2995,   134,   114,  1093,  3370,   113, 59439, 13112,   143, 36142,\n",
       "          8194,   158,   487,   109,  1917,  1494,   107,  4101,  1717,  1100,\n",
       "          2331,   148,   163,  3498,   120, 28009,   271,  1878,  7783,   373,\n",
       "           109, 21866,   107,  4101,  1954, 32887,  2000,  1100,   699,  4306,\n",
       "           208,  6671,   139, 61443, 56963,   117,  1729,   244,   109,  2906,\n",
       "         61443,  6561,   108,   162,   127,  1729,  4600, 61443,   116,   115,\n",
       "          3646,   113,  3258,  3991, 61443,   113,  9464,   107,   139,  6600,\n",
       "           127,   297,   113,   109,  2273, 12679,   120,   117,  3373,   124,\n",
       "           142,   204,   121, 37088,  2944,   108,   568,   109, 61443, 12566,\n",
       "           143,  8161,  1729,   118,   109,  6600,   312,   124,   109,  4874,\n",
       "           477,   113,   109, 21866,   107, 43571,   139,  3755,  2944,   117,\n",
       "          2672, 22947,   316,  6909,   109, 61443, 12566,   108,  1125,   109,\n",
       "         61443, 21866,   108,   111,   143, 74189,   124,   158,   109, 12679,\n",
       "           113,   109, 61443,  6561,   108,   130,   336, 10406,   115,   109,\n",
       "          2944,   117,  1291,   111, 54602, 12872,   112,   515,  2273, 31227,\n",
       "           111, 23786,   107,   139, 61443, 56963,   117,   297,   113,   109,\n",
       "           125, 14330,  1198, 35892,   386,  1198, 82487,   304,  2672, 33423,\n",
       "           327,   120,  1878,   109, 11547,   317,   228, 53241,  5838,   107,\n",
       "           222,   136,   327,   108,   109,  4874,  2143,   113,   156,  2944,\n",
       "           108,   109,  3755, 12566,   108,   117,  2672, 22947,   316,   143,\n",
       "           457,   107,   326,   107,   108, 17697,   158,  6909,   109,  1934,\n",
       "         61443,     1]]), 'attention_mask': tensor([[1, 1, 1, 1, 1, 1, 1, 1, 1, 1, 1, 1, 1, 1, 1, 1, 1, 1, 1, 1, 1, 1, 1, 1,\n",
       "         1, 1, 1, 1, 1, 1, 1, 1, 1, 1, 1, 1, 1, 1, 1, 1, 1, 1, 1, 1, 1, 1, 1, 1,\n",
       "         1, 1, 1, 1, 1, 1, 1, 1, 1, 1, 1, 1, 1, 1, 1, 1, 1, 1, 1, 1, 1, 1, 1, 1,\n",
       "         1, 1, 1, 1, 1, 1, 1, 1, 1, 1, 1, 1, 1, 1, 1, 1, 1, 1, 1, 1, 1, 1, 1, 1,\n",
       "         1, 1, 1, 1, 1, 1, 1, 1, 1, 1, 1, 1, 1, 1, 1, 1, 1, 1, 1, 1, 1, 1, 1, 1,\n",
       "         1, 1, 1, 1, 1, 1, 1, 1, 1, 1, 1, 1, 1, 1, 1, 1, 1, 1, 1, 1, 1, 1, 1, 1,\n",
       "         1, 1, 1, 1, 1, 1, 1, 1, 1, 1, 1, 1, 1, 1, 1, 1, 1, 1, 1, 1, 1, 1, 1, 1,\n",
       "         1, 1, 1, 1, 1, 1, 1, 1, 1, 1, 1, 1, 1, 1, 1, 1, 1, 1, 1, 1, 1, 1, 1, 1,\n",
       "         1, 1, 1, 1, 1, 1, 1, 1, 1, 1, 1, 1, 1, 1, 1, 1, 1, 1, 1, 1, 1, 1, 1, 1,\n",
       "         1, 1, 1, 1, 1, 1, 1, 1, 1, 1, 1, 1, 1, 1, 1, 1, 1, 1, 1, 1, 1, 1, 1, 1,\n",
       "         1, 1, 1, 1, 1, 1, 1, 1, 1, 1, 1, 1, 1, 1, 1, 1, 1, 1, 1, 1, 1, 1, 1, 1,\n",
       "         1, 1, 1, 1, 1, 1, 1, 1, 1, 1, 1, 1, 1, 1, 1, 1, 1, 1, 1, 1, 1, 1, 1, 1,\n",
       "         1, 1, 1, 1, 1, 1, 1, 1, 1, 1, 1, 1, 1, 1, 1, 1, 1, 1, 1, 1, 1, 1, 1, 1,\n",
       "         1, 1, 1, 1, 1, 1, 1, 1, 1, 1, 1, 1, 1, 1, 1, 1, 1, 1, 1, 1, 1, 1, 1, 1,\n",
       "         1, 1, 1, 1, 1, 1, 1, 1, 1, 1, 1, 1, 1, 1, 1, 1, 1, 1, 1, 1, 1, 1, 1, 1,\n",
       "         1, 1, 1, 1, 1, 1, 1, 1, 1, 1, 1, 1, 1, 1, 1, 1, 1, 1, 1, 1, 1, 1, 1, 1,\n",
       "         1, 1, 1, 1, 1, 1, 1, 1, 1, 1, 1, 1, 1, 1, 1, 1, 1, 1, 1, 1, 1, 1, 1, 1,\n",
       "         1, 1, 1, 1, 1, 1, 1, 1, 1, 1, 1, 1, 1, 1, 1, 1, 1, 1, 1, 1, 1, 1, 1, 1,\n",
       "         1, 1, 1, 1, 1, 1, 1, 1, 1, 1, 1, 1, 1, 1, 1, 1, 1, 1, 1, 1, 1, 1, 1, 1,\n",
       "         1, 1, 1, 1, 1, 1, 1, 1, 1, 1, 1, 1, 1, 1, 1, 1, 1, 1, 1, 1, 1, 1, 1, 1,\n",
       "         1, 1, 1, 1, 1, 1, 1, 1, 1, 1, 1, 1, 1, 1, 1, 1, 1, 1, 1, 1, 1, 1, 1, 1,\n",
       "         1, 1, 1, 1, 1, 1, 1, 1]])}"
      ]
     },
     "execution_count": 6,
     "metadata": {},
     "output_type": "execute_result"
    }
   ],
   "source": [
    "tokens"
   ]
  },
  {
   "attachments": {},
   "cell_type": "markdown",
   "metadata": {},
   "source": [
    "Summarize"
   ]
  },
  {
   "cell_type": "code",
   "execution_count": 7,
   "metadata": {},
   "outputs": [],
   "source": [
    "text_length = len(tokens.input_ids[0])  # Calculate the length of the input text\n",
    "max_percentage = 0.4  # Set the maximum length as 40% of the original text length\n",
    "min_percentage = 0.3  # Set the minimum length as 30% of the original text length\n",
    "\n",
    "max_length = int(text_length * max_percentage)\n",
    "min_length = int(text_length * min_percentage)\n",
    "\n",
    "summary = model.generate(**tokens,max_length=max_length,min_length=min_length)"
   ]
  },
  {
   "cell_type": "code",
   "execution_count": 8,
   "metadata": {},
   "outputs": [
    {
     "data": {
      "text/plain": [
       "tensor([[    0,   139, 61443, 56963,   117,   142, 57662, 21866,   746,   115,\n",
       "           109,  4874,  3755,  5353,   108,   160,  2416, 13112,   143, 36398,\n",
       "          8194,   158,  3758,   113,   109, 61443,  6561,   108,   111,   126,\n",
       "           117,   109, 15699, 57662, 21866,   124,  2774,   108,   122,   114,\n",
       "          2004,  3370,   113,   377,   108, 69462,   110,   105,  1182,  7641,\n",
       "         50803,   108, 63478,   110,   105, 11460,  4954,   206, 42299,  5247,\n",
       "           110,   105, 28319,  1717,  8194,   158,   134,   109,  4576,   370,\n",
       "           113,   114,   360,  4574,   121,  8746,  7668,   115,   203,  1030,\n",
       "           606,   130,   109, 29625,  7496,   108,   162,   192,   309,   129,\n",
       "         12144,   141,   154,   197,   280, 13112,   143, 19825,  8194,   158,\n",
       "           175,  4636, 25715,   195,  1828,   190,   109, 21866,   134,   136,\n",
       "           491,   108,   203,  4566,   192,   309,   129, 12144,   141,   154,\n",
       "           197,   280, 13112,   143, 19825,  8194,   312,   175,  4636, 25715,\n",
       "           195,  1828,   190,   109, 61443, 56963,   134,   136,   491,   108,\n",
       "           203,  4566,   192,   309,   129, 12144,   141,   154,   197,   280,\n",
       "         13112,   143, 19825,  8194,   312,   175,  4636, 25715,   195,  1828,\n",
       "           190,   109, 61443, 56963,   134,   136,   491,   108,   203,  4566,\n",
       "           192,   309,   129, 12144,   141,   154,   197,   280, 13112,   143,\n",
       "         19825,  8194,   312,   175,  4636, 25715,   195,  1828,   190,   109,\n",
       "         61443, 56963,   134,   136,   491,   108,   203,  4566,   192,   309,\n",
       "           129, 12144,   141,     1]])"
      ]
     },
     "execution_count": 8,
     "metadata": {},
     "output_type": "execute_result"
    }
   ],
   "source": [
    "summary"
   ]
  },
  {
   "attachments": {},
   "cell_type": "markdown",
   "metadata": {},
   "source": [
    "Tokens Decode"
   ]
  },
  {
   "cell_type": "code",
   "execution_count": 9,
   "metadata": {},
   "outputs": [
    {
     "name": "stdout",
     "output_type": "stream",
     "text": [
      "\n",
      "Proportion of the text: 0.3984375\n"
     ]
    },
    {
     "data": {
      "text/html": [
       "<div style=\"background-color: black; border: 1px solid #ddd; padding: 10px; border-radius: 5px; color: white; white-space: pre-line;\">The Mariana Trench is an oceanic trench located in the western Pacific Ocean, about 200 kilometres (124 mi) east of the Mariana Islands, and it is the deepest oceanic trench on Earth, with a maximum depth of 10,984  25 metres (36,037  82 ft; 6.825  0.016 mi) at the southern end of a small slot-shaped valley in its floor known as the Challenger Deep, which would still be underwater by more than 2 kilometres (1.2 mi) if Mount Everest were placed into the trench at this point, its peak would still be underwater by more than 2 kilometres (1.2 mi), if Mount Everest were placed into the Mariana Trench at this point, its peak would still be underwater by more than 2 kilometres (1.2 mi), if Mount Everest were placed into the Mariana Trench at this point, its peak would still be underwater by more than 2 kilometres (1.2 mi), if Mount Everest were placed into the Mariana Trench at this point, its peak would still be underwater by</div>"
      ],
      "text/plain": [
       "<IPython.core.display.HTML object>"
      ]
     },
     "metadata": {},
     "output_type": "display_data"
    }
   ],
   "source": [
    "sumarized_text =  tokenizer.decode(summary[0],skip_special_tokens=True)  #Special tokens : are specific tokens that are added to the input text during tokenization or encoding to provide additional information or context to the model.\n",
    "\n",
    "# Calculate proportion of summary\n",
    "summary_length = len(summary[0])\n",
    "proportion = summary_length / text_length\n",
    "\n",
    "print(\"\\nProportion of the text:\", proportion)\n",
    "display_in_box(sumarized_text)\n"
   ]
  }
 ],
 "metadata": {
  "kernelspec": {
   "display_name": "base",
   "language": "python",
   "name": "python3"
  },
  "language_info": {
   "codemirror_mode": {
    "name": "ipython",
    "version": 3
   },
   "file_extension": ".py",
   "mimetype": "text/x-python",
   "name": "python",
   "nbconvert_exporter": "python",
   "pygments_lexer": "ipython3",
   "version": "3.11.2"
  },
  "orig_nbformat": 4
 },
 "nbformat": 4,
 "nbformat_minor": 2
}
